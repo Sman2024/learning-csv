{
  "nbformat": 4,
  "nbformat_minor": 0,
  "metadata": {
    "colab": {
      "provenance": [],
      "authorship_tag": "ABX9TyNJR+cP8O8OaG7pNURgmc4D",
      "include_colab_link": true
    },
    "kernelspec": {
      "name": "python3",
      "display_name": "Python 3"
    },
    "language_info": {
      "name": "python"
    }
  },
  "cells": [
    {
      "cell_type": "markdown",
      "metadata": {
        "id": "view-in-github",
        "colab_type": "text"
      },
      "source": [
        "<a href=\"https://colab.research.google.com/github/Sman2024/learning-csv/blob/main/creating_acct.ipynb\" target=\"_parent\"><img src=\"https://colab.research.google.com/assets/colab-badge.svg\" alt=\"Open In Colab\"/></a>"
      ]
    },
    {
      "cell_type": "code",
      "execution_count": null,
      "metadata": {
        "id": "qI9tTnTD0ll0"
      },
      "outputs": [],
      "source": [
        "# 4,8,6,5,3,7,9,124,8,6,5,3,7,9,12\n",
        "\n",
        "import numpy as np\n",
        "from scipy import stats\n",
        "\n",
        "\n",
        "\n",
        "\n",
        "\n"
      ]
    },
    {
      "cell_type": "code",
      "source": [
        "import numpy as np\n",
        "from scipy import stats\n",
        "\n",
        "\n",
        "data = [4, 8, 6, 5, 3, 7, 9, 124, 8, 6, 5, 3, 7, 9, 12]\n",
        "\n",
        "mean = np.mean(data)\n",
        "median = np.median(data)\n",
        "mode = stats.mode(data, keepdims=True)\n",
        "range = np.max(data) - np.min(data)\n",
        "variance = np.var(data)\n",
        "standard_deviation = np.std(data)\n",
        "\n",
        "print(\"Mean:\", mean)\n",
        "print(\"Median:\", median)\n",
        "print(\"Mode:\", mode.mode[0], \"Frequency:\", mode.count[0])\n",
        "print(\"range:\", range)\n",
        "print(\"variance:\", variance)\n",
        "print(\"standard deviation:\", standard_deviation)\n"
      ],
      "metadata": {
        "colab": {
          "base_uri": "https://localhost:8080/"
        },
        "id": "sYuVoi431jSU",
        "outputId": "747c2816-4a7d-496a-bf47-2d9a3af3ba0a"
      },
      "execution_count": null,
      "outputs": [
        {
          "output_type": "stream",
          "name": "stdout",
          "text": [
            "Mean: 14.4\n",
            "Median: 7.0\n",
            "Mode: 3 Frequency: 2\n",
            "range: 121\n",
            "variance: 863.5733333333332\n",
            "standard deviation: 29.386618269772608\n"
          ]
        }
      ]
    },
    {
      "cell_type": "code",
      "source": [],
      "metadata": {
        "id": "2kjOQ8_ZaTIm"
      },
      "execution_count": null,
      "outputs": []
    },
    {
      "cell_type": "code",
      "source": [
        "class BankAccount:\n",
        "    def __init__(self, account_number, name, initial_deposit):\n",
        "        self.account_number = account_number\n",
        "        self.name = name\n",
        "        self.balance = initial_deposit\n",
        "\n",
        "    def display_account_details(self):\n",
        "        print(\"\\nAccount Details:\")\n",
        "        print(f\"Account Number: {self.account_number}\")\n",
        "        print(f\"Account Holder: {self.name}\")\n",
        "        print(f\"Current Balance: #{self.balance:.2f}\\n\")\n",
        "\n",
        "# Function to create a new account\n",
        "def create_account():\n",
        "    print(\"Welcome to Bank Account Creation!\")\n",
        "    account_number = input(\"Enter a new account number: \")\n",
        "    name = input(\"Enter the account holder's name: \")\n",
        "    while True:\n",
        "        try:\n",
        "            initial_deposit = float(input(\"Enter an initial deposit amount: \"))\n",
        "            if initial_deposit < 0:\n",
        "                raise ValueError(\"Initial deposit cannot be negative.\")\n",
        "            break\n",
        "        except ValueError as e:\n",
        "            print(f\"Invalid input: {e}\")\n",
        "\n",
        "    account = BankAccount(account_number, name, initial_deposit)\n",
        "    print(\"\\nAccount successfully created!\")\n",
        "    return account\n",
        "\n",
        "# Main program\n",
        "if __name__ == \"__main__\":\n",
        "    accounts = []\n",
        "\n",
        "    while True:\n",
        "        print(\"\\nBank Account System\")\n",
        "        print(\"1. Create a New Account\")\n",
        "        print(\"2. View Account Details\")\n",
        "        print(\"3. Exit\")\n",
        "\n",
        "        choice = input(\"Enter your choice (1/2/3): \")\n",
        "\n",
        "        if choice == \"1\":\n",
        "            account = create_account()\n",
        "            accounts.append(account)\n",
        "        elif choice == \"2\":\n",
        "            if not accounts:\n",
        "                print(\"\\nNo accounts available. Create one first.\")\n",
        "            else:\n",
        "                for acc in accounts:\n",
        "                    acc.display_account_details()\n",
        "        elif choice == \"3\":\n",
        "            print(\"Thank you for using the bank account system. Goodbye!\")\n",
        "            break\n",
        "        else:\n",
        "            print(\"Invalid choice. Please try again.\")\n"
      ],
      "metadata": {
        "colab": {
          "base_uri": "https://localhost:8080/"
        },
        "id": "gdOWfGk6aT5A",
        "outputId": "0a3cc9ed-1e52-4c28-e7b7-6a1fb15652b1"
      },
      "execution_count": null,
      "outputs": [
        {
          "output_type": "stream",
          "name": "stdout",
          "text": [
            "\n",
            "Bank Account System\n",
            "1. Create a New Account\n",
            "2. View Account Details\n",
            "3. Exit\n",
            "Enter your choice (1/2/3): 1\n",
            "Welcome to Bank Account Creation!\n",
            "Enter a new account number: 016233866483\n",
            "Enter the account holder's name: Raji Sulaeman\n",
            "Enter an initial deposit amount: 200000\n",
            "\n",
            "Account successfully created!\n",
            "\n",
            "Bank Account System\n",
            "1. Create a New Account\n",
            "2. View Account Details\n",
            "3. Exit\n",
            "Enter your choice (1/2/3): 2\n",
            "\n",
            "Account Details:\n",
            "Account Number: 016233866483\n",
            "Account Holder: Raji Sulaeman\n",
            "Current Balance: #200000.00\n",
            "\n",
            "\n",
            "Bank Account System\n",
            "1. Create a New Account\n",
            "2. View Account Details\n",
            "3. Exit\n",
            "Enter your choice (1/2/3): 3\n",
            "Thank you for using the bank account system. Goodbye!\n"
          ]
        }
      ]
    },
    {
      "cell_type": "code",
      "source": [
        "class BankAccount:\n",
        "    main_account_balance = 0\n",
        "\n",
        "    def __init__(self, account_holder, account_number, initial_balance=0):\n",
        "        self.account_holder = account_holder\n",
        "        self.account_number = account_number\n",
        "        self.balance = initial_balance\n",
        "        BankAccount.main_account_balance += initial_balance\n",
        "\n",
        "    def deposit(self, amount):\n",
        "        if amount > 0:\n",
        "            self.balance += amount\n",
        "            BankAccount.main_account_balance += amount\n",
        "            print(f\"Deposited: #{amount:.2f}\")\n",
        "        else:\n",
        "            print(\"Deposit amount must be positive.\")\n",
        "\n",
        "    def withdraw(self, amount):\n",
        "        if amount > 0 and amount <= self.balance:\n",
        "            self.balance -= amount\n",
        "            BankAccount.main_account_balance -= amount\n",
        "            print(f\"Withdrew: #{amount:.2f}\")\n",
        "        elif amount > self.balance:\n",
        "            print(\"Insufficient funds.\")\n",
        "        else:\n",
        "            print(\"Withdrawal amount must be positive.\")\n",
        "\n",
        "    def display_details(self):\n",
        "        print(\"\\n--- Account Details ---\")\n",
        "        print(f\"Account Holder: {self.account_holder}\")\n",
        "        print(f\"Account Number: {self.account_number}\")\n",
        "        print(f\"Balance: #{self.balance:.2f}\")\n",
        "\n",
        "    @classmethod\n",
        "    def display_main_account_balance(cls):\n",
        "        print(f\"\\n--- Main Bank Balance ---\")\n",
        "        print(f\"Main Account Balance: #{cls.main_account_balance:.2f}\")\n",
        "\n",
        "def create_account():\n",
        "    print(\"\\n--- Create New Account ---\")\n",
        "    name = input(\"Enter account holder's name: \")\n",
        "    account_num = input(\"Enter account number: \")\n",
        "    initial_deposit = float(input(\"Enter initial deposit amount: \"))\n",
        "    return BankAccount(name, account_num, initial_deposit)\n",
        "\n",
        "def main():\n",
        "    print(\"Welcome to the Sulaeman Bank!\")\n",
        "    account = None\n",
        "\n",
        "    while True:\n",
        "        print(\"\\n1. Create Account\")\n",
        "        print(\"2. Deposit Money\")\n",
        "        print(\"3. Withdraw Money\")\n",
        "        print(\"4. View Account Details\")\n",
        "        print(\"5. View Main Account Balance\")\n",
        "        print(\"6. Exit\")\n",
        "        choice = input(\"Enter your choice: \")\n",
        "\n",
        "        if choice == \"1\":\n",
        "            account = create_account()\n",
        "        elif choice == \"2\":\n",
        "            if account:\n",
        "                amount = float(input(\"Enter amount to deposit: \"))\n",
        "                account.deposit(amount)\n",
        "            else:\n",
        "                print(\"No account exists. Please create an account first.\")\n",
        "        elif choice == \"3\":\n",
        "            if account:\n",
        "                amount = float(input(\"Enter amount to withdraw: \"))\n",
        "                account.withdraw(amount)\n",
        "            else:\n",
        "                print(\"No account exists. Please create an account first.\")\n",
        "        elif choice == \"4\":\n",
        "            if account:\n",
        "                account.display_details()\n",
        "            else:\n",
        "                print(\"No account exists. Please create an account first.\")\n",
        "        elif choice == \"5\":\n",
        "            BankAccount.display_main_account_balance()\n",
        "        elif choice == \"6\":\n",
        "            print(\"Thank you for banking with us, Have a nice day sir/ma!\")\n",
        "            break\n",
        "        else:\n",
        "            print(\"Invalid choice. Please try again.\")\n",
        "\n",
        "if __name__ == \"__main__\":\n",
        "    main()\n"
      ],
      "metadata": {
        "colab": {
          "base_uri": "https://localhost:8080/"
        },
        "id": "LmhRvFNKf4kg",
        "outputId": "c159cea0-5ce0-40ec-c08a-591c9baf4b87"
      },
      "execution_count": null,
      "outputs": [
        {
          "output_type": "stream",
          "name": "stdout",
          "text": [
            "Welcome to the Sulaeman Bank!\n",
            "\n",
            "1. Create Account\n",
            "2. Deposit Money\n",
            "3. Withdraw Money\n",
            "4. View Account Details\n",
            "5. View Main Account Balance\n",
            "6. Exit\n",
            "Enter your choice: 6\n",
            "Thank you for banking with us, Have a nice day sir/ma!\n"
          ]
        }
      ]
    },
    {
      "cell_type": "code",
      "source": [],
      "metadata": {
        "id": "QcOlva257epq"
      },
      "execution_count": null,
      "outputs": []
    },
    {
      "cell_type": "code",
      "source": [
        "x y\n",
        "1 5\n",
        "2 10\n",
        "3 15\n",
        "4 20\n",
        "5 25\n",
        "predict 6 ?\n",
        "7 ?"
      ],
      "metadata": {
        "id": "yFfNlRce7fVO"
      },
      "execution_count": null,
      "outputs": []
    },
    {
      "cell_type": "code",
      "source": [],
      "metadata": {
        "id": "Mfuv8Rpn7p3e"
      },
      "execution_count": null,
      "outputs": []
    }
  ]
}